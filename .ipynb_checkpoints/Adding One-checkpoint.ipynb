{
 "cells": [
  {
   "cell_type": "markdown",
   "metadata": {},
   "source": [
    "## Adding One\n",
    "Given a non-negative integer represented as an array of digits. Your task is to add 1 to the number ( increment the number by 1). The digits are stored such that the most significant digit is at the starting index of the array.\n",
    "\n",
    "#### Example:\n",
    "If the array has [4, 5, 6], the resultant array should be [4, 5, 7] as 456 + 1 = 457.\n",
    "\n",
    "#### Input:\n",
    "The first line of input contains an integer T denoting the number of test cases. The first line of each test case contains a single integer N denoting the size of the array. The second line contains N space-separated integers A1, A2, ..., AN denoting the elements of the array.\n",
    "\n",
    "#### Output:\n",
    "Print the resultant array.\n",
    "\n",
    "#### Constraints: \n",
    "    1 ≤ T ≤ 300\n",
    "    1 ≤ N ≤ 107\n",
    "    0 ≤ A[i] ≤ 9\n",
    "\n",
    "#### Example:\n",
    "Input:\n",
    "\n",
    "    2\n",
    "    4\n",
    "    5 6 7 8\n",
    "    3\n",
    "    9 9 9\n",
    "\n",
    "Output:\n",
    "\n",
    "    5 6 7 9\n",
    "    1 0 0 0"
   ]
  },
  {
   "cell_type": "code",
   "execution_count": 28,
   "metadata": {},
   "outputs": [
    {
     "data": {
      "text/plain": [
       "addone! (generic function with 1 method)"
      ]
     },
     "execution_count": 28,
     "metadata": {},
     "output_type": "execute_result"
    }
   ],
   "source": [
    "function addone!(lst::AbstractArray)        \n",
    "    for i in length(lst):-1:1\n",
    "        if lst[i] == 9\n",
    "            lst[i] = 0\n",
    "        else\n",
    "            lst[i] += 1\n",
    "            @goto found\n",
    "        end\n",
    "    end\n",
    "    pushfirst!(lst, 1)\n",
    "    @label found\n",
    "    lst\n",
    "end"
   ]
  },
  {
   "cell_type": "code",
   "execution_count": 29,
   "metadata": {},
   "outputs": [
    {
     "data": {
      "text/plain": [
       "4-element Array{Int64,1}:\n",
       " 5\n",
       " 6\n",
       " 7\n",
       " 9"
      ]
     },
     "execution_count": 29,
     "metadata": {},
     "output_type": "execute_result"
    }
   ],
   "source": [
    "addone!([5,6,7,8])"
   ]
  },
  {
   "cell_type": "code",
   "execution_count": 30,
   "metadata": {},
   "outputs": [
    {
     "data": {
      "text/plain": [
       "4-element Array{Int64,1}:\n",
       " 1\n",
       " 0\n",
       " 0\n",
       " 0"
      ]
     },
     "execution_count": 30,
     "metadata": {},
     "output_type": "execute_result"
    }
   ],
   "source": [
    "addone!([9,9,9])"
   ]
  }
 ],
 "metadata": {
  "kernelspec": {
   "display_name": "Julia 1.0.1",
   "language": "julia",
   "name": "julia-1.0"
  },
  "language_info": {
   "file_extension": ".jl",
   "mimetype": "application/julia",
   "name": "julia",
   "version": "1.0.1"
  }
 },
 "nbformat": 4,
 "nbformat_minor": 2
}
