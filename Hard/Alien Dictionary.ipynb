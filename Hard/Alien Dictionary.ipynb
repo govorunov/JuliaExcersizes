{
 "cells": [
  {
   "cell_type": "markdown",
   "metadata": {},
   "source": [
    "## Alien Dictionary\n",
    "\n",
    "Given a sorted dictionary of an alien language having N words and k starting alphabets of standard dictionary the task is to complete the function which returns a string denoting the order of characters in the language..\n",
    "\n",
    "Note: Many orders may be possible for a particular test case, thus you may return any valid order.\n",
    " \n",
    "\n",
    "#### Examples:\n",
    "\n",
    "Input:  `Dict[] = { \"baa\", \"abcd\", \"abca\", \"cab\", \"cad\" }, k = 4`\n",
    "\n",
    "Output: Function returns \"bdac\" \n",
    "\n",
    "Here order of characters is 'b', 'd', 'a', 'c' \n",
    "Note that words are sorted and in the given language \"baa\" \n",
    "comes before \"abcd\", therefore 'b' is before 'a' in output.\n",
    "Similarly we can find other orders.\n",
    "\n",
    "Input:  `Dict[] = { \"caa\", \"aaa\", \"aab\" }, k = 3`\n",
    "\n",
    "Output: Function returns \"cab\"\n",
    "\n",
    "#### Input:\n",
    "The first line of input contains an integer T denoting the no of test cases. Then T test cases follow. Each test case contains an integer N and k denoting the size of the dictionary. Then in the next line are sorted space separated values of the alien dictionary.\n",
    "\n",
    "#### Output:\n",
    "For each test case in a new line output will be 1 if the order of string returned by the function is correct else 0 denoting incorrect string returned.\n",
    "\n",
    "#### Constraints:\n",
    "    1<=T<=200\n",
    "    1<=N<=100\n",
    "    1<=k<=26\n",
    "    1<=Length of words <=1000\n",
    "\n",
    "#### Example:\n",
    "Input:\n",
    "\n",
    "    2\n",
    "    5 4\n",
    "    baa abcd abca cab cad\n",
    "    3 3\n",
    "    caa aaa aab\n",
    "\n",
    "Output:\n",
    "\n",
    "    1\n",
    "    1"
   ]
  },
  {
   "cell_type": "code",
   "execution_count": null,
   "metadata": {},
   "outputs": [],
   "source": []
  }
 ],
 "metadata": {
  "kernelspec": {
   "display_name": "Julia 1.0.1",
   "language": "julia",
   "name": "julia-1.0"
  },
  "language_info": {
   "file_extension": ".jl",
   "mimetype": "application/julia",
   "name": "julia",
   "version": "1.0.1"
  }
 },
 "nbformat": 4,
 "nbformat_minor": 2
}
