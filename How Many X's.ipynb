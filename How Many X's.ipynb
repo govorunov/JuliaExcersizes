{
 "cells": [
  {
   "cell_type": "markdown",
   "metadata": {},
   "source": [
    "## How Many X's\n",
    "Given an integer X within the range of 0 to 9, and given two positive integers as upper and lower bounds respectively, find the number of times X occurs as a digit in an integer within the range, excluding the bounds. Print the frequency of occurrence as output.\n",
    "\n",
    "#### Input:  \n",
    "The first line of input is an integer T, denoting the number of test cases. For each test case, there are two lines of input, first consisting of the integer X, whose occurrence has to be counted. Second, the lower and upper bound, L and U which are positive integers, on the same line separated by a single space, respectively.\n",
    "\n",
    "#### Output:  \n",
    "For each test case, there is only one line of output, the count of the occurrence of X as a digit in the numbers lying between the lower and upper bound, excluding them.\n",
    "\n",
    "#### Constraints: \n",
    "\n",
    "    1<=T<=100  \n",
    "    0<=X<=9  \n",
    "    0<L<U<=10^5  \n",
    "\n",
    "#### Example:  \n",
    "Input:\n",
    "\n",
    "    5  \n",
    "    3  \n",
    "    100 250  \n",
    "    2  \n",
    "    10000 12345  \n",
    "    0  \n",
    "    20 21  \n",
    "    9  \n",
    "    899 1000\n",
    "    1\n",
    "    1100 1345\n",
    "    \n",
    "Output:\n",
    "\n",
    "    35\n",
    "    1120\n",
    "    0\n",
    "    120\n",
    "    398\n",
    "\n",
    "#### Explanation:\n",
    "In the first test case, the occurrence of 3 in the numbers starting from 101 to 249 is counted and comes out to be 35.\n",
    "\n",
    "Similarly, for all the other test cases, the occurrence of the given number X is printed as output."
   ]
  },
  {
   "cell_type": "code",
   "execution_count": 27,
   "metadata": {},
   "outputs": [
    {
     "data": {
      "text/plain": [
       "countdigits (generic function with 2 methods)"
      ]
     },
     "execution_count": 27,
     "metadata": {},
     "output_type": "execute_result"
    }
   ],
   "source": [
    "function countdigits(n::Integer, l::Integer, k::Integer)\n",
    "    count = 0\n",
    "    for i in (n+1):(l-1)\n",
    "        while i > 0\n",
    "            if mod(i, 10) == k\n",
    "                count += 1\n",
    "            end\n",
    "            i = div(i, 10)\n",
    "        end\n",
    "    end\n",
    "    count\n",
    "end"
   ]
  },
  {
   "cell_type": "code",
   "execution_count": 28,
   "metadata": {},
   "outputs": [
    {
     "data": {
      "text/plain": [
       "15558"
      ]
     },
     "execution_count": 28,
     "metadata": {},
     "output_type": "execute_result"
    }
   ],
   "source": [
    "countdigits(3192, 33339,3 )"
   ]
  },
  {
   "cell_type": "code",
   "execution_count": 29,
   "metadata": {},
   "outputs": [
    {
     "data": {
      "text/plain": [
       "35"
      ]
     },
     "execution_count": 29,
     "metadata": {},
     "output_type": "execute_result"
    }
   ],
   "source": [
    "countdigits(100,250,3)"
   ]
  },
  {
   "cell_type": "code",
   "execution_count": 30,
   "metadata": {},
   "outputs": [
    {
     "data": {
      "text/plain": [
       "398"
      ]
     },
     "execution_count": 30,
     "metadata": {},
     "output_type": "execute_result"
    }
   ],
   "source": [
    "countdigits(1100,1345,1)"
   ]
  },
  {
   "cell_type": "code",
   "execution_count": 31,
   "metadata": {},
   "outputs": [
    {
     "data": {
      "text/plain": [
       "58429"
      ]
     },
     "execution_count": 31,
     "metadata": {},
     "output_type": "execute_result"
    }
   ],
   "source": [
    "countdigits(12346,123455,2)"
   ]
  },
  {
   "cell_type": "code",
   "execution_count": 32,
   "metadata": {},
   "outputs": [
    {
     "data": {
      "text/plain": [
       "BenchmarkTools.Trial: \n",
       "  memory estimate:  0 bytes\n",
       "  allocs estimate:  0\n",
       "  --------------\n",
       "  minimum time:     1.089 ms (0.00% GC)\n",
       "  median time:      1.131 ms (0.00% GC)\n",
       "  mean time:        1.182 ms (0.00% GC)\n",
       "  maximum time:     2.368 ms (0.00% GC)\n",
       "  --------------\n",
       "  samples:          4224\n",
       "  evals/sample:     1"
      ]
     },
     "execution_count": 32,
     "metadata": {},
     "output_type": "execute_result"
    }
   ],
   "source": [
    "using BenchmarkTools\n",
    "\n",
    "@benchmark countdigits(12346,123455,2)"
   ]
  }
 ],
 "metadata": {
  "kernelspec": {
   "display_name": "Julia 1.0.1",
   "language": "julia",
   "name": "julia-1.0"
  },
  "language_info": {
   "file_extension": ".jl",
   "mimetype": "application/julia",
   "name": "julia",
   "version": "1.0.1"
  }
 },
 "nbformat": 4,
 "nbformat_minor": 2
}
