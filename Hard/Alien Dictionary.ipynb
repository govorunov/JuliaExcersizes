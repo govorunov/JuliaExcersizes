{
 "cells": [
  {
   "cell_type": "markdown",
   "metadata": {},
   "source": [
    "## Alien Dictionary\n",
    "\n",
    "Given a sorted dictionary of an alien language having N words and k starting alphabets of standard dictionary the task is to complete the function which returns a string denoting the order of characters in the language..\n",
    "\n",
    "Note: Many orders may be possible for a particular test case, thus you may return any valid order.\n",
    " \n",
    "\n",
    "#### Examples:\n",
    "\n",
    "Input:  `Dict[] = { \"baa\", \"abcd\", \"abca\", \"cab\", \"cad\" }, k = 4`\n",
    "\n",
    "Output: Function returns \"bdac\" \n",
    "\n",
    "Here order of characters is 'b', 'd', 'a', 'c' \n",
    "Note that words are sorted and in the given language \"baa\" \n",
    "comes before \"abcd\", therefore 'b' is before 'a' in output.\n",
    "Similarly we can find other orders.\n",
    "\n",
    "Input:  `Dict[] = { \"caa\", \"aaa\", \"aab\" }, k = 3`\n",
    "\n",
    "Output: Function returns \"cab\"\n",
    "\n",
    "#### Input:\n",
    "The first line of input contains an integer T denoting the no of test cases. Then T test cases follow. Each test case contains an integer N and k denoting the size of the dictionary. Then in the next line are sorted space separated values of the alien dictionary.\n",
    "\n",
    "#### Output:\n",
    "For each test case in a new line output will be 1 if the order of string returned by the function is correct else 0 denoting incorrect string returned.\n",
    "\n",
    "#### Constraints:\n",
    "    1<=T<=200\n",
    "    1<=N<=100\n",
    "    1<=k<=26\n",
    "    1<=Length of words <=1000\n",
    "\n",
    "#### Example:\n",
    "Input:\n",
    "\n",
    "    2\n",
    "    5 4\n",
    "    baa abcd abca cab cad\n",
    "    3 3\n",
    "    caa aaa aab\n",
    "\n",
    "Output:\n",
    "\n",
    "    1\n",
    "    1"
   ]
  },
  {
   "cell_type": "code",
   "execution_count": 58,
   "metadata": {},
   "outputs": [
    {
     "data": {
      "text/plain": [
       "printOrder (generic function with 1 method)"
      ]
     },
     "execution_count": 58,
     "metadata": {},
     "output_type": "execute_result"
    }
   ],
   "source": [
    "function printOrder(dict::AbstractArray)\n",
    "    \n",
    "    # Construct graph of symbols orders 'a'=>['b','c'], b=>['c','e']\n",
    "    mp = Dict{Char, Vector{Char}}()\n",
    "    for i in 1:length(dict)-1\n",
    "        s1 = dict[i]\n",
    "        s2 = dict[i+1]\n",
    "        for j in 1:min(length(s1), length(s2))\n",
    "            if s1[j] != s2[j]\n",
    "                push!(get!(mp, s1[j], Vector{Char}()), s2[j])\n",
    "                break\n",
    "            end\n",
    "        end\n",
    "    end\n",
    "    \n",
    "    # Postorder traversal of graph using pair of stacks to get order of characters\n",
    "    stack = Vector{Char}()\n",
    "    order = Vector{Char}()\n",
    "    visited = Set{Char}()\n",
    "    \n",
    "    # Find roots of the graph first\n",
    "    roots = setdiff(keys(mp), Iterators.flatten(values(mp)))\n",
    "    append!(stack, roots)\n",
    "    \n",
    "    while !isempty(stack)\n",
    "        ch = pop!(stack)\n",
    "        if !(ch in visited)\n",
    "            push!(order, ch)\n",
    "            push!(visited,ch)\n",
    "            if haskey(mp, ch)\n",
    "                append!(stack, mp[ch])\n",
    "            end\n",
    "        end\n",
    "    end\n",
    "    order\n",
    "end"
   ]
  },
  {
   "cell_type": "code",
   "execution_count": 59,
   "metadata": {},
   "outputs": [
    {
     "data": {
      "text/plain": [
       "4-element Array{Char,1}:\n",
       " 'b'\n",
       " 'd'\n",
       " 'a'\n",
       " 'c'"
      ]
     },
     "execution_count": 59,
     "metadata": {},
     "output_type": "execute_result"
    }
   ],
   "source": [
    "dict = [\"baa\", \"abcd\", \"abca\", \"cab\", \"cad\" ]\n",
    "printOrder(dict)"
   ]
  },
  {
   "cell_type": "code",
   "execution_count": 60,
   "metadata": {},
   "outputs": [
    {
     "data": {
      "text/plain": [
       "3-element Array{Char,1}:\n",
       " 'c'\n",
       " 'a'\n",
       " 'b'"
      ]
     },
     "execution_count": 60,
     "metadata": {},
     "output_type": "execute_result"
    }
   ],
   "source": [
    "dict = [\"caa\", \"aaa\", \"aab\"]\n",
    "printOrder(dict)"
   ]
  }
 ],
 "metadata": {
  "kernelspec": {
   "display_name": "Julia 1.0.1",
   "language": "julia",
   "name": "julia-1.0"
  },
  "language_info": {
   "file_extension": ".jl",
   "mimetype": "application/julia",
   "name": "julia",
   "version": "1.0.1"
  }
 },
 "nbformat": 4,
 "nbformat_minor": 2
}
